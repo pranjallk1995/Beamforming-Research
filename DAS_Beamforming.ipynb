{
 "cells": [
  {
   "cell_type": "code",
   "execution_count": 1,
   "metadata": {},
   "outputs": [],
   "source": [
    "# importing libraries\n",
    "import os\n",
    "import numpy as np\n",
    "\n",
    "from scipy.io import wavfile"
   ]
  },
  {
   "cell_type": "code",
   "execution_count": 2,
   "metadata": {},
   "outputs": [
    {
     "name": "stdout",
     "output_type": "stream",
     "text": [
      "44100\n",
      "<class 'numpy.ndarray'>\n"
     ]
    }
   ],
   "source": [
    "# setting sound path\n",
    "sound_path = os.path.join(\n",
    "    os.getcwd(),\n",
    "    \"Sounds\",\n",
    "    \"Pulse_001.wav\"\n",
    ")\n",
    "\n",
    "# loading sound\n",
    "sample_rate, sound_pulse = wavfile.read(sound_path)\n",
    "\n",
    "# sanity check\n",
    "print(sample_rate)\n",
    "print(type(sound_pulse))"
   ]
  },
  {
   "cell_type": "code",
   "execution_count": null,
   "metadata": {},
   "outputs": [],
   "source": []
  }
 ],
 "metadata": {
  "interpreter": {
   "hash": "d5dcfbb3eb1e160f6f306b5651ac45ddc350359f9c67c81a872595327073d748"
  },
  "kernelspec": {
   "display_name": "Python 3.10.1 64-bit ('venv': venv)",
   "language": "python",
   "name": "python3"
  },
  "language_info": {
   "codemirror_mode": {
    "name": "ipython",
    "version": 3
   },
   "file_extension": ".py",
   "mimetype": "text/x-python",
   "name": "python",
   "nbconvert_exporter": "python",
   "pygments_lexer": "ipython3",
   "version": "3.10.1"
  },
  "orig_nbformat": 4
 },
 "nbformat": 4,
 "nbformat_minor": 2
}
